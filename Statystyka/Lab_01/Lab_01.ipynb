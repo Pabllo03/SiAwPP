{
 "cells": [
  {
   "cell_type": "code",
   "execution_count": 1,
   "metadata": {
    "collapsed": true
   },
   "outputs": [],
   "source": [
    "import warnings\n",
    "warnings.filterwarnings('ignore')"
   ]
  },
  {
   "cell_type": "code",
   "execution_count": 3,
   "outputs": [],
   "source": [
    "import pandas as pd\n",
    "import requests\n",
    "from io import StringIO"
   ],
   "metadata": {
    "collapsed": false
   }
  },
  {
   "cell_type": "code",
   "execution_count": 4,
   "outputs": [],
   "source": [
    "url = \"https://extranet.who.int/tme/generateCSV.asp?ds=mdr_estimates\"\n",
    "response = requests.get(url)\n",
    "data_raw = StringIO(response.text)\n",
    "df = pd.read_csv(data_raw)"
   ],
   "metadata": {
    "collapsed": false
   }
  },
  {
   "cell_type": "code",
   "execution_count": 5,
   "outputs": [
    {
     "data": {
      "text/plain": "       country iso2 iso3  iso_numeric g_whoregion  year source_rr_new  \\\n0  Afghanistan   AF  AFG            4         EMR  2015         Model   \n1  Afghanistan   AF  AFG            4         EMR  2016         Model   \n2  Afghanistan   AF  AFG            4         EMR  2017         Model   \n3  Afghanistan   AF  AFG            4         EMR  2018         Model   \n4  Afghanistan   AF  AFG            4         EMR  2019         Model   \n5  Afghanistan   AF  AFG            4         EMR  2020         Model   \n6  Afghanistan   AF  AFG            4         EMR  2021         Model   \n7  Afghanistan   AF  AFG            4         EMR  2022         Model   \n8      Albania   AL  ALB            8         EUR  2015  Surveillance   \n9      Albania   AL  ALB            8         EUR  2016  Surveillance   \n\n   e_rr_pct_new  e_rr_pct_new_lo  e_rr_pct_new_hi source_rr_ret  e_rr_pct_ret  \\\n0           4.8             0.42             19.0  Surveillance           6.0   \n1           4.7             0.45             17.0  Surveillance           8.1   \n2           4.6             0.48             17.0  Surveillance          11.0   \n3           4.5             0.51             17.0  Surveillance          14.0   \n4           4.4             0.53             17.0  Surveillance          19.0   \n5           4.3             0.53             16.0  Surveillance          24.0   \n6           4.3             0.53             15.0  Surveillance          31.0   \n7           4.2             0.55             15.0  Surveillance          38.0   \n8           1.9             1.20              2.8  Surveillance          15.0   \n9           1.9             1.20              2.7  Surveillance          15.0   \n\n   e_rr_pct_ret_lo  e_rr_pct_ret_hi  e_inc_rr_num  e_inc_rr_num_lo  \\\n0              4.1              8.3          3400                0   \n1              6.1             10.0          3400                0   \n2              9.0             13.0          3400                0   \n3             13.0             16.0          3500                0   \n4             17.0             20.0          3500                0   \n5             22.0             27.0          3500                0   \n6             26.0             36.0          3600                0   \n7             31.0             45.0          3700                0   \n8              8.1             24.0            14                8   \n9              8.1             24.0            13                8   \n\n   e_inc_rr_num_hi  e_rr_in_notified_labconf_pulm  \\\n0             9800                          800.0   \n1             9500                          880.0   \n2             9500                         1100.0   \n3             9800                         1200.0   \n4             9900                         1200.0   \n5             9700                         1100.0   \n6             9600                         1300.0   \n7             9600                         1100.0   \n8               20                            4.0   \n9               19                            4.0   \n\n   e_rr_in_notified_labconf_pulm_lo  e_rr_in_notified_labconf_pulm_hi  \n0                              70.0                            3100.0  \n1                               0.0                            2400.0  \n2                               0.0                            2700.0  \n3                               0.0                            2900.0  \n4                               0.0                            3200.0  \n5                               0.0                            2900.0  \n6                               0.0                            3100.0  \n7                             140.0                            3700.0  \n8                               2.0                               5.0  \n9                               3.0                               6.0  ",
      "text/html": "<div>\n<style scoped>\n    .dataframe tbody tr th:only-of-type {\n        vertical-align: middle;\n    }\n\n    .dataframe tbody tr th {\n        vertical-align: top;\n    }\n\n    .dataframe thead th {\n        text-align: right;\n    }\n</style>\n<table border=\"1\" class=\"dataframe\">\n  <thead>\n    <tr style=\"text-align: right;\">\n      <th></th>\n      <th>country</th>\n      <th>iso2</th>\n      <th>iso3</th>\n      <th>iso_numeric</th>\n      <th>g_whoregion</th>\n      <th>year</th>\n      <th>source_rr_new</th>\n      <th>e_rr_pct_new</th>\n      <th>e_rr_pct_new_lo</th>\n      <th>e_rr_pct_new_hi</th>\n      <th>source_rr_ret</th>\n      <th>e_rr_pct_ret</th>\n      <th>e_rr_pct_ret_lo</th>\n      <th>e_rr_pct_ret_hi</th>\n      <th>e_inc_rr_num</th>\n      <th>e_inc_rr_num_lo</th>\n      <th>e_inc_rr_num_hi</th>\n      <th>e_rr_in_notified_labconf_pulm</th>\n      <th>e_rr_in_notified_labconf_pulm_lo</th>\n      <th>e_rr_in_notified_labconf_pulm_hi</th>\n    </tr>\n  </thead>\n  <tbody>\n    <tr>\n      <th>0</th>\n      <td>Afghanistan</td>\n      <td>AF</td>\n      <td>AFG</td>\n      <td>4</td>\n      <td>EMR</td>\n      <td>2015</td>\n      <td>Model</td>\n      <td>4.8</td>\n      <td>0.42</td>\n      <td>19.0</td>\n      <td>Surveillance</td>\n      <td>6.0</td>\n      <td>4.1</td>\n      <td>8.3</td>\n      <td>3400</td>\n      <td>0</td>\n      <td>9800</td>\n      <td>800.0</td>\n      <td>70.0</td>\n      <td>3100.0</td>\n    </tr>\n    <tr>\n      <th>1</th>\n      <td>Afghanistan</td>\n      <td>AF</td>\n      <td>AFG</td>\n      <td>4</td>\n      <td>EMR</td>\n      <td>2016</td>\n      <td>Model</td>\n      <td>4.7</td>\n      <td>0.45</td>\n      <td>17.0</td>\n      <td>Surveillance</td>\n      <td>8.1</td>\n      <td>6.1</td>\n      <td>10.0</td>\n      <td>3400</td>\n      <td>0</td>\n      <td>9500</td>\n      <td>880.0</td>\n      <td>0.0</td>\n      <td>2400.0</td>\n    </tr>\n    <tr>\n      <th>2</th>\n      <td>Afghanistan</td>\n      <td>AF</td>\n      <td>AFG</td>\n      <td>4</td>\n      <td>EMR</td>\n      <td>2017</td>\n      <td>Model</td>\n      <td>4.6</td>\n      <td>0.48</td>\n      <td>17.0</td>\n      <td>Surveillance</td>\n      <td>11.0</td>\n      <td>9.0</td>\n      <td>13.0</td>\n      <td>3400</td>\n      <td>0</td>\n      <td>9500</td>\n      <td>1100.0</td>\n      <td>0.0</td>\n      <td>2700.0</td>\n    </tr>\n    <tr>\n      <th>3</th>\n      <td>Afghanistan</td>\n      <td>AF</td>\n      <td>AFG</td>\n      <td>4</td>\n      <td>EMR</td>\n      <td>2018</td>\n      <td>Model</td>\n      <td>4.5</td>\n      <td>0.51</td>\n      <td>17.0</td>\n      <td>Surveillance</td>\n      <td>14.0</td>\n      <td>13.0</td>\n      <td>16.0</td>\n      <td>3500</td>\n      <td>0</td>\n      <td>9800</td>\n      <td>1200.0</td>\n      <td>0.0</td>\n      <td>2900.0</td>\n    </tr>\n    <tr>\n      <th>4</th>\n      <td>Afghanistan</td>\n      <td>AF</td>\n      <td>AFG</td>\n      <td>4</td>\n      <td>EMR</td>\n      <td>2019</td>\n      <td>Model</td>\n      <td>4.4</td>\n      <td>0.53</td>\n      <td>17.0</td>\n      <td>Surveillance</td>\n      <td>19.0</td>\n      <td>17.0</td>\n      <td>20.0</td>\n      <td>3500</td>\n      <td>0</td>\n      <td>9900</td>\n      <td>1200.0</td>\n      <td>0.0</td>\n      <td>3200.0</td>\n    </tr>\n    <tr>\n      <th>5</th>\n      <td>Afghanistan</td>\n      <td>AF</td>\n      <td>AFG</td>\n      <td>4</td>\n      <td>EMR</td>\n      <td>2020</td>\n      <td>Model</td>\n      <td>4.3</td>\n      <td>0.53</td>\n      <td>16.0</td>\n      <td>Surveillance</td>\n      <td>24.0</td>\n      <td>22.0</td>\n      <td>27.0</td>\n      <td>3500</td>\n      <td>0</td>\n      <td>9700</td>\n      <td>1100.0</td>\n      <td>0.0</td>\n      <td>2900.0</td>\n    </tr>\n    <tr>\n      <th>6</th>\n      <td>Afghanistan</td>\n      <td>AF</td>\n      <td>AFG</td>\n      <td>4</td>\n      <td>EMR</td>\n      <td>2021</td>\n      <td>Model</td>\n      <td>4.3</td>\n      <td>0.53</td>\n      <td>15.0</td>\n      <td>Surveillance</td>\n      <td>31.0</td>\n      <td>26.0</td>\n      <td>36.0</td>\n      <td>3600</td>\n      <td>0</td>\n      <td>9600</td>\n      <td>1300.0</td>\n      <td>0.0</td>\n      <td>3100.0</td>\n    </tr>\n    <tr>\n      <th>7</th>\n      <td>Afghanistan</td>\n      <td>AF</td>\n      <td>AFG</td>\n      <td>4</td>\n      <td>EMR</td>\n      <td>2022</td>\n      <td>Model</td>\n      <td>4.2</td>\n      <td>0.55</td>\n      <td>15.0</td>\n      <td>Surveillance</td>\n      <td>38.0</td>\n      <td>31.0</td>\n      <td>45.0</td>\n      <td>3700</td>\n      <td>0</td>\n      <td>9600</td>\n      <td>1100.0</td>\n      <td>140.0</td>\n      <td>3700.0</td>\n    </tr>\n    <tr>\n      <th>8</th>\n      <td>Albania</td>\n      <td>AL</td>\n      <td>ALB</td>\n      <td>8</td>\n      <td>EUR</td>\n      <td>2015</td>\n      <td>Surveillance</td>\n      <td>1.9</td>\n      <td>1.20</td>\n      <td>2.8</td>\n      <td>Surveillance</td>\n      <td>15.0</td>\n      <td>8.1</td>\n      <td>24.0</td>\n      <td>14</td>\n      <td>8</td>\n      <td>20</td>\n      <td>4.0</td>\n      <td>2.0</td>\n      <td>5.0</td>\n    </tr>\n    <tr>\n      <th>9</th>\n      <td>Albania</td>\n      <td>AL</td>\n      <td>ALB</td>\n      <td>8</td>\n      <td>EUR</td>\n      <td>2016</td>\n      <td>Surveillance</td>\n      <td>1.9</td>\n      <td>1.20</td>\n      <td>2.7</td>\n      <td>Surveillance</td>\n      <td>15.0</td>\n      <td>8.1</td>\n      <td>24.0</td>\n      <td>13</td>\n      <td>8</td>\n      <td>19</td>\n      <td>4.0</td>\n      <td>3.0</td>\n      <td>6.0</td>\n    </tr>\n  </tbody>\n</table>\n</div>"
     },
     "execution_count": 5,
     "metadata": {},
     "output_type": "execute_result"
    }
   ],
   "source": [
    "df.head(10)"
   ],
   "metadata": {
    "collapsed": false
   }
  },
  {
   "cell_type": "code",
   "execution_count": 6,
   "outputs": [
    {
     "data": {
      "text/plain": "0    Afghanistan\n1    Afghanistan\n2    Afghanistan\n3    Afghanistan\n4    Afghanistan\n5    Afghanistan\n6    Afghanistan\n7    Afghanistan\n8        Albania\n9        Albania\nName: country, dtype: object"
     },
     "execution_count": 6,
     "metadata": {},
     "output_type": "execute_result"
    }
   ],
   "source": [
    "wybrana_kolumna = \"country\"\n",
    "wybrane_dane = df[wybrana_kolumna]\n",
    "wybrane_dane.head(10)"
   ],
   "metadata": {
    "collapsed": false
   }
  },
  {
   "cell_type": "code",
   "execution_count": 7,
   "outputs": [
    {
     "data": {
      "text/plain": "count            1720\nunique            215\ntop       Afghanistan\nfreq                8\nName: country, dtype: object"
     },
     "execution_count": 7,
     "metadata": {},
     "output_type": "execute_result"
    }
   ],
   "source": [
    "statystyki = wybrane_dane.describe()\n",
    "statystyki"
   ],
   "metadata": {
    "collapsed": false
   }
  },
  {
   "cell_type": "code",
   "execution_count": 8,
   "outputs": [],
   "source": [
    "import csv\n",
    "import statistics\n"
   ],
   "metadata": {
    "collapsed": false
   }
  },
  {
   "cell_type": "code",
   "execution_count": 10,
   "outputs": [
    {
     "data": {
      "text/plain": "[156,\n 158,\n 167,\n 188,\n 197,\n 167,\n 197,\n 178,\n 186,\n 157,\n 198,\n 199,\n 178,\n 168,\n 156,\n 151,\n 167,\n 167]"
     },
     "execution_count": 10,
     "metadata": {},
     "output_type": "execute_result"
    }
   ],
   "source": [
    "df = pd.read_csv('Wzrost.csv', header=None)\n",
    "df = df.values.tolist()\n",
    "df = df[0]\n",
    "df"
   ],
   "metadata": {
    "collapsed": false
   }
  },
  {
   "cell_type": "code",
   "execution_count": 11,
   "outputs": [
    {
     "name": "stdout",
     "output_type": "stream",
     "text": [
      "Wariancja: 269.6764705882353\n",
      "Odchylenie standardowe: 16.42182908777933\n"
     ]
    }
   ],
   "source": [
    "wariancja = statistics.variance(df)\n",
    "odchylenie_standardowe = statistics.stdev(df)\n",
    "print(f'Wariancja: {wariancja}')\n",
    "print(f'Odchylenie standardowe: {odchylenie_standardowe}')"
   ],
   "metadata": {
    "collapsed": false
   }
  },
  {
   "cell_type": "code",
   "execution_count": 13,
   "outputs": [],
   "source": [
    "from scipy import stats"
   ],
   "metadata": {
    "collapsed": false
   }
  },
  {
   "cell_type": "code",
   "execution_count": 15,
   "outputs": [
    {
     "name": "stdout",
     "output_type": "stream",
     "text": [
      "Przekształcono plik \"ADDR.txt\" do formatu CSV: \"AADDDDRR.csv\"\n"
     ]
    }
   ],
   "source": [
    "import csv\n",
    "\n",
    "input_file_path = 'ADDR.txt'\n",
    "output_file_path = 'AADDDDRR.csv'\n",
    "\n",
    "# Otwórz plik txt do odczytu\n",
    "with open(input_file_path, 'r') as txt_file:\n",
    "    # Odczytaj linie z pliku\n",
    "    lines = txt_file.readlines()\n",
    "\n",
    "# Przygotuj pusty plik CSV\n",
    "csv_data = []\n",
    "\n",
    "# Przetwórz każdą linię\n",
    "for line in lines:\n",
    "    # Usuń białe znaki z końca każdego pola\n",
    "    cleaned_line = [field.strip() for field in line.split(',')]\n",
    "    # Dodaj przetworzoną linię do danych CSV\n",
    "    csv_data.append(cleaned_line)\n",
    "\n",
    "# Zapisz dane do pliku CSV\n",
    "with open(output_file_path, 'w', newline='', encoding='utf-8') as csv_file:\n",
    "    csv_writer = csv.writer(csv_file)\n",
    "    csv_writer.writerows(csv_data)\n",
    "\n",
    "print(f'Przekształcono plik \"{input_file_path}\" do formatu CSV: \"{output_file_path}\"')\n"
   ],
   "metadata": {
    "collapsed": false
   }
  },
  {
   "cell_type": "code",
   "execution_count": 28,
   "outputs": [
    {
     "data": {
      "text/plain": "   year industry_code_ANZSIC               industry_name_ANZSIC rme_size_grp  \\\n0  2011                    A  Agriculture, Forestry and Fishing          a_0   \n1  2011                    A  Agriculture, Forestry and Fishing          a_0   \n2  2011                    A  Agriculture, Forestry and Fishing          a_0   \n3  2011                    A  Agriculture, Forestry and Fishing          a_0   \n4  2011                    A  Agriculture, Forestry and Fishing          a_0   \n5  2011                    A  Agriculture, Forestry and Fishing          a_0   \n6  2011                    A  Agriculture, Forestry and Fishing          a_0   \n7  2011                    A  Agriculture, Forestry and Fishing          a_0   \n8  2011                    A  Agriculture, Forestry and Fishing          a_0   \n9  2011                    A  Agriculture, Forestry and Fishing        b_1-5   \n\n                                          variable  value               unit  \n0                                    Activity unit  46134              COUNT  \n1                           Rolling mean employees      0              COUNT  \n2                          Salaries and wages paid    279  DOLLARS(millions)  \n3  Sales, government funding, grants and subsidies   8187  DOLLARS(millions)  \n4                                     Total income   8866  DOLLARS(millions)  \n5                                Total expenditure   7618  DOLLARS(millions)  \n6                      Operating profit before tax    770  DOLLARS(millions)  \n7                                     Total assets  55700  DOLLARS(millions)  \n8                            Fixed tangible assets  32155  DOLLARS(millions)  \n9                                    Activity unit  21777              COUNT  ",
      "text/html": "<div>\n<style scoped>\n    .dataframe tbody tr th:only-of-type {\n        vertical-align: middle;\n    }\n\n    .dataframe tbody tr th {\n        vertical-align: top;\n    }\n\n    .dataframe thead th {\n        text-align: right;\n    }\n</style>\n<table border=\"1\" class=\"dataframe\">\n  <thead>\n    <tr style=\"text-align: right;\">\n      <th></th>\n      <th>year</th>\n      <th>industry_code_ANZSIC</th>\n      <th>industry_name_ANZSIC</th>\n      <th>rme_size_grp</th>\n      <th>variable</th>\n      <th>value</th>\n      <th>unit</th>\n    </tr>\n  </thead>\n  <tbody>\n    <tr>\n      <th>0</th>\n      <td>2011</td>\n      <td>A</td>\n      <td>Agriculture, Forestry and Fishing</td>\n      <td>a_0</td>\n      <td>Activity unit</td>\n      <td>46134</td>\n      <td>COUNT</td>\n    </tr>\n    <tr>\n      <th>1</th>\n      <td>2011</td>\n      <td>A</td>\n      <td>Agriculture, Forestry and Fishing</td>\n      <td>a_0</td>\n      <td>Rolling mean employees</td>\n      <td>0</td>\n      <td>COUNT</td>\n    </tr>\n    <tr>\n      <th>2</th>\n      <td>2011</td>\n      <td>A</td>\n      <td>Agriculture, Forestry and Fishing</td>\n      <td>a_0</td>\n      <td>Salaries and wages paid</td>\n      <td>279</td>\n      <td>DOLLARS(millions)</td>\n    </tr>\n    <tr>\n      <th>3</th>\n      <td>2011</td>\n      <td>A</td>\n      <td>Agriculture, Forestry and Fishing</td>\n      <td>a_0</td>\n      <td>Sales, government funding, grants and subsidies</td>\n      <td>8187</td>\n      <td>DOLLARS(millions)</td>\n    </tr>\n    <tr>\n      <th>4</th>\n      <td>2011</td>\n      <td>A</td>\n      <td>Agriculture, Forestry and Fishing</td>\n      <td>a_0</td>\n      <td>Total income</td>\n      <td>8866</td>\n      <td>DOLLARS(millions)</td>\n    </tr>\n    <tr>\n      <th>5</th>\n      <td>2011</td>\n      <td>A</td>\n      <td>Agriculture, Forestry and Fishing</td>\n      <td>a_0</td>\n      <td>Total expenditure</td>\n      <td>7618</td>\n      <td>DOLLARS(millions)</td>\n    </tr>\n    <tr>\n      <th>6</th>\n      <td>2011</td>\n      <td>A</td>\n      <td>Agriculture, Forestry and Fishing</td>\n      <td>a_0</td>\n      <td>Operating profit before tax</td>\n      <td>770</td>\n      <td>DOLLARS(millions)</td>\n    </tr>\n    <tr>\n      <th>7</th>\n      <td>2011</td>\n      <td>A</td>\n      <td>Agriculture, Forestry and Fishing</td>\n      <td>a_0</td>\n      <td>Total assets</td>\n      <td>55700</td>\n      <td>DOLLARS(millions)</td>\n    </tr>\n    <tr>\n      <th>8</th>\n      <td>2011</td>\n      <td>A</td>\n      <td>Agriculture, Forestry and Fishing</td>\n      <td>a_0</td>\n      <td>Fixed tangible assets</td>\n      <td>32155</td>\n      <td>DOLLARS(millions)</td>\n    </tr>\n    <tr>\n      <th>9</th>\n      <td>2011</td>\n      <td>A</td>\n      <td>Agriculture, Forestry and Fishing</td>\n      <td>b_1-5</td>\n      <td>Activity unit</td>\n      <td>21777</td>\n      <td>COUNT</td>\n    </tr>\n  </tbody>\n</table>\n</div>"
     },
     "execution_count": 28,
     "metadata": {},
     "output_type": "execute_result"
    }
   ],
   "source": [
    "file_path = 'annual-enterprise-survey-2021-financial-year-provisional-size-bands-csv.csv'\n",
    "df = pd.read_csv(file_path)\n",
    "df.head(10)"
   ],
   "metadata": {
    "collapsed": false
   }
  },
  {
   "cell_type": "code",
   "execution_count": 29,
   "outputs": [],
   "source": [
    "column_name = 'year'\n",
    "data = df[column_name]"
   ],
   "metadata": {
    "collapsed": false
   }
  },
  {
   "cell_type": "code",
   "execution_count": 30,
   "outputs": [
    {
     "name": "stdout",
     "output_type": "stream",
     "text": [
      "\n",
      "Dostępne statystyki opisowe w scipy.stats:\n",
      "['BootstrapMethod', 'CensoredData', 'ConstantInputWarning', 'Covariance', 'DegenerateDataWarning', 'FitError', 'MonteCarloMethod', 'NearConstantInputWarning', 'PermutationMethod', '__all__', '__builtins__', '__cached__', '__doc__', '__file__', '__loader__', '__name__', '__package__', '__path__', '__spec__', '_axis_nan_policy', '_biasedurn', '_binned_statistic', '_binomtest', '_boost', '_censored_data', '_common', '_constants', '_continuous_distns', '_covariance', '_crosstab', '_discrete_distns', '_distn_infrastructure', '_distr_params', '_entropy', '_fit', '_hypotests', '_kde', '_ksstats', '_levy_stable', '_mannwhitneyu', '_morestats', '_mstats_basic', '_mstats_extras', '_multicomp', '_multivariate', '_mvn', '_odds_ratio', '_page_trend_test', '_qmc', '_qmc_cy', '_qmvnt', '_rcont', '_relative_risk', '_resampling', '_rvs_sampling', '_sensitivity_analysis', '_sobol', '_statlib', '_stats', '_stats_mstats_common', '_stats_py', '_stats_pythran', '_survival', '_tukeylambda_stats', '_variation', '_warnings_errors', 'alexandergovern', 'alpha', 'anderson', 'anderson_ksamp', 'anglit', 'ansari', 'arcsine', 'argus', 'barnard_exact', 'bartlett', 'bayes_mvs', 'bernoulli', 'beta', 'betabinom', 'betaprime', 'biasedurn', 'binned_statistic', 'binned_statistic_2d', 'binned_statistic_dd', 'binom', 'binom_test', 'binomtest', 'boltzmann', 'bootstrap', 'boschloo_exact', 'boxcox', 'boxcox_llf', 'boxcox_normmax', 'boxcox_normplot', 'bradford', 'brunnermunzel', 'burr', 'burr12', 'cauchy', 'chi', 'chi2', 'chi2_contingency', 'chisquare', 'circmean', 'circstd', 'circvar', 'combine_pvalues', 'contingency', 'cosine', 'cramervonmises', 'cramervonmises_2samp', 'crystalball', 'cumfreq', 'describe', 'dgamma', 'differential_entropy', 'directional_stats', 'dirichlet', 'dirichlet_multinomial', 'distributions', 'dlaplace', 'dunnett', 'dweibull', 'ecdf', 'energy_distance', 'entropy', 'epps_singleton_2samp', 'erlang', 'expectile', 'expon', 'exponnorm', 'exponpow', 'exponweib', 'f', 'f_oneway', 'false_discovery_control', 'fatiguelife', 'find_repeats', 'fisher_exact', 'fisk', 'fit', 'fligner', 'foldcauchy', 'foldnorm', 'friedmanchisquare', 'gamma', 'gausshyper', 'gaussian_kde', 'genexpon', 'genextreme', 'gengamma', 'genhalflogistic', 'genhyperbolic', 'geninvgauss', 'genlogistic', 'gennorm', 'genpareto', 'geom', 'gibrat', 'gmean', 'gompertz', 'goodness_of_fit', 'gstd', 'gumbel_l', 'gumbel_r', 'gzscore', 'halfcauchy', 'halfgennorm', 'halflogistic', 'halfnorm', 'hmean', 'hypergeom', 'hypsecant', 'invgamma', 'invgauss', 'invweibull', 'invwishart', 'iqr', 'jarque_bera', 'johnsonsb', 'johnsonsu', 'kappa3', 'kappa4', 'kde', 'kendalltau', 'kruskal', 'ks_1samp', 'ks_2samp', 'ksone', 'kstat', 'kstatvar', 'kstest', 'kstwo', 'kstwobign', 'kurtosis', 'kurtosistest', 'laplace', 'laplace_asymmetric', 'levene', 'levy', 'levy_l', 'levy_stable', 'linregress', 'loggamma', 'logistic', 'loglaplace', 'lognorm', 'logrank', 'logser', 'loguniform', 'lomax', 'mannwhitneyu', 'matrix_normal', 'maxwell', 'median_abs_deviation', 'median_test', 'mielke', 'mode', 'moment', 'monte_carlo_test', 'mood', 'morestats', 'moyal', 'mstats', 'mstats_basic', 'mstats_extras', 'multinomial', 'multiscale_graphcorr', 'multivariate_hypergeom', 'multivariate_normal', 'multivariate_t', 'mvn', 'mvsdist', 'nakagami', 'nbinom', 'ncf', 'nchypergeom_fisher', 'nchypergeom_wallenius', 'nct', 'ncx2', 'nhypergeom', 'norm', 'normaltest', 'norminvgauss', 'obrientransform', 'ortho_group', 'page_trend_test', 'pareto', 'pearson3', 'pearsonr', 'percentileofscore', 'permutation_test', 'planck', 'pmean', 'pointbiserialr', 'poisson', 'poisson_means_test', 'power_divergence', 'powerlaw', 'powerlognorm', 'powernorm', 'ppcc_max', 'ppcc_plot', 'probplot', 'qmc', 'randint', 'random_correlation', 'random_table', 'rankdata', 'ranksums', 'rayleigh', 'rdist', 'recipinvgauss', 'reciprocal', 'rel_breitwigner', 'relfreq', 'rice', 'rv_continuous', 'rv_discrete', 'rv_histogram', 'rvs_ratio_uniforms', 'scoreatpercentile', 'sem', 'semicircular', 'shapiro', 'siegelslopes', 'sigmaclip', 'skellam', 'skew', 'skewcauchy', 'skewnorm', 'skewtest', 'sobol_indices', 'somersd', 'spearmanr', 'special_ortho_group', 'statlib', 'stats', 'studentized_range', 't', 'test', 'theilslopes', 'tiecorrect', 'tmax', 'tmean', 'tmin', 'trapezoid', 'trapz', 'triang', 'trim1', 'trim_mean', 'trimboth', 'truncexpon', 'truncnorm', 'truncpareto', 'truncweibull_min', 'tsem', 'tstd', 'ttest_1samp', 'ttest_ind', 'ttest_ind_from_stats', 'ttest_rel', 'tukey_hsd', 'tukeylambda', 'tvar', 'uniform', 'uniform_direction', 'unitary_group', 'variation', 'vonmises', 'vonmises_fisher', 'vonmises_line', 'wald', 'wasserstein_distance', 'weibull_max', 'weibull_min', 'weightedtau', 'wilcoxon', 'wishart', 'wrapcauchy', 'yeojohnson', 'yeojohnson_llf', 'yeojohnson_normmax', 'yeojohnson_normplot', 'yulesimon', 'zipf', 'zipfian', 'zmap', 'zscore']\n"
     ]
    }
   ],
   "source": [
    "print(\"\\nDostępne statystyki opisowe w scipy.stats:\")\n",
    "print(dir(stats))"
   ],
   "metadata": {
    "collapsed": false
   }
  },
  {
   "cell_type": "code",
   "execution_count": 31,
   "outputs": [
    {
     "name": "stdout",
     "output_type": "stream",
     "text": [
      "Statystyki:\n",
      "Średnia: 2016.0\n",
      "Wariancja: 10.000587302519527\n",
      "Kurtoza: -1.22\n",
      "Skośność: 0.0\n"
     ]
    }
   ],
   "source": [
    "stats_csv = stats.describe(data)\n",
    "print(\"Statystyki:\")\n",
    "print(f\"Średnia: {stats_csv.mean}\")\n",
    "print(f\"Wariancja: {stats_csv.variance}\")\n",
    "print(f\"Kurtoza: {stats_csv.kurtosis}\")\n",
    "print(f\"Skośność: {stats_csv.skewness}\")\n"
   ],
   "metadata": {
    "collapsed": false
   }
  },
  {
   "cell_type": "code",
   "execution_count": 32,
   "outputs": [],
   "source": [
    "import matplotlib.pyplot as plt"
   ],
   "metadata": {
    "collapsed": false
   }
  },
  {
   "cell_type": "code",
   "execution_count": 34,
   "outputs": [
    {
     "data": {
      "text/plain": "    Gender  FSIQ  VIQ  PIQ Weight Height  MRI_Count\n1   Female   133  132  124    118   64.5     816932\n2     Male   140  150  124      .   72.5    1001121\n3     Male   139  123  150    143   73.3    1038437\n4     Male   133  129  128    172   68.8     965353\n5   Female   137  132  134    147   65.0     951545\n6   Female    99   90  110    146   69.0     928799\n7   Female   138  136  131    138   64.5     991305\n8   Female    92   90   98    175   66.0     854258\n9     Male    89   93   84    134   66.3     904858\n10    Male   133  114  147    172   68.8     955466",
      "text/html": "<div>\n<style scoped>\n    .dataframe tbody tr th:only-of-type {\n        vertical-align: middle;\n    }\n\n    .dataframe tbody tr th {\n        vertical-align: top;\n    }\n\n    .dataframe thead th {\n        text-align: right;\n    }\n</style>\n<table border=\"1\" class=\"dataframe\">\n  <thead>\n    <tr style=\"text-align: right;\">\n      <th></th>\n      <th>Gender</th>\n      <th>FSIQ</th>\n      <th>VIQ</th>\n      <th>PIQ</th>\n      <th>Weight</th>\n      <th>Height</th>\n      <th>MRI_Count</th>\n    </tr>\n  </thead>\n  <tbody>\n    <tr>\n      <th>1</th>\n      <td>Female</td>\n      <td>133</td>\n      <td>132</td>\n      <td>124</td>\n      <td>118</td>\n      <td>64.5</td>\n      <td>816932</td>\n    </tr>\n    <tr>\n      <th>2</th>\n      <td>Male</td>\n      <td>140</td>\n      <td>150</td>\n      <td>124</td>\n      <td>.</td>\n      <td>72.5</td>\n      <td>1001121</td>\n    </tr>\n    <tr>\n      <th>3</th>\n      <td>Male</td>\n      <td>139</td>\n      <td>123</td>\n      <td>150</td>\n      <td>143</td>\n      <td>73.3</td>\n      <td>1038437</td>\n    </tr>\n    <tr>\n      <th>4</th>\n      <td>Male</td>\n      <td>133</td>\n      <td>129</td>\n      <td>128</td>\n      <td>172</td>\n      <td>68.8</td>\n      <td>965353</td>\n    </tr>\n    <tr>\n      <th>5</th>\n      <td>Female</td>\n      <td>137</td>\n      <td>132</td>\n      <td>134</td>\n      <td>147</td>\n      <td>65.0</td>\n      <td>951545</td>\n    </tr>\n    <tr>\n      <th>6</th>\n      <td>Female</td>\n      <td>99</td>\n      <td>90</td>\n      <td>110</td>\n      <td>146</td>\n      <td>69.0</td>\n      <td>928799</td>\n    </tr>\n    <tr>\n      <th>7</th>\n      <td>Female</td>\n      <td>138</td>\n      <td>136</td>\n      <td>131</td>\n      <td>138</td>\n      <td>64.5</td>\n      <td>991305</td>\n    </tr>\n    <tr>\n      <th>8</th>\n      <td>Female</td>\n      <td>92</td>\n      <td>90</td>\n      <td>98</td>\n      <td>175</td>\n      <td>66.0</td>\n      <td>854258</td>\n    </tr>\n    <tr>\n      <th>9</th>\n      <td>Male</td>\n      <td>89</td>\n      <td>93</td>\n      <td>84</td>\n      <td>134</td>\n      <td>66.3</td>\n      <td>904858</td>\n    </tr>\n    <tr>\n      <th>10</th>\n      <td>Male</td>\n      <td>133</td>\n      <td>114</td>\n      <td>147</td>\n      <td>172</td>\n      <td>68.8</td>\n      <td>955466</td>\n    </tr>\n  </tbody>\n</table>\n</div>"
     },
     "execution_count": 34,
     "metadata": {},
     "output_type": "execute_result"
    }
   ],
   "source": [
    "df = pd.read_csv('brain_size.csv', sep=';', index_col = 0)\n",
    "df.head(10)"
   ],
   "metadata": {
    "collapsed": false
   }
  },
  {
   "cell_type": "code",
   "execution_count": 35,
   "outputs": [
    {
     "name": "stdout",
     "output_type": "stream",
     "text": [
      "Średnia dla kolumny VIQ: 112.35\n"
     ]
    }
   ],
   "source": [
    "srednia_VIQ = df['VIQ'].mean()\n",
    "print(f\"Średnia dla kolumny VIQ: {srednia_VIQ}\")"
   ],
   "metadata": {
    "collapsed": false
   }
  },
  {
   "cell_type": "code",
   "execution_count": 36,
   "outputs": [
    {
     "name": "stdout",
     "output_type": "stream",
     "text": [
      "Liczba kobiet: 20\n",
      "Liczba mężczyzn: 20\n"
     ]
    },
    {
     "data": {
      "text/plain": "40"
     },
     "execution_count": 36,
     "metadata": {},
     "output_type": "execute_result"
    }
   ],
   "source": [
    "liczba_kobiet = df[df['Gender'] == 'Female'].shape[0]\n",
    "liczba_mezczyzn = df[df['Gender'] == 'Male'].shape[0]\n",
    "print(f\"Liczba kobiet: {liczba_kobiet}\")\n",
    "print(f\"Liczba mężczyzn: {liczba_mezczyzn}\")\n",
    "df.shape[0]"
   ],
   "metadata": {
    "collapsed": false
   }
  },
  {
   "cell_type": "code",
   "execution_count": 43,
   "outputs": [
    {
     "data": {
      "text/plain": "<Figure size 640x480 with 4 Axes>",
      "image/png": "[encoded data removed]"
     },
     "metadata": {},
     "output_type": "display_data"
    }
   ],
   "source": [
    "df[['VIQ', 'PIQ', 'FSIQ',]].hist()\n",
    "plt.suptitle('Histogramy dla VIQ, PIQ, FSIQ,')\n",
    "plt.show()"
   ],
   "metadata": {
    "collapsed": false
   }
  },
  {
   "cell_type": "code",
   "execution_count": 38,
   "outputs": [
    {
     "data": {
      "text/plain": "<Figure size 640x480 with 4 Axes>",
      "image/png": "[encoded data removed]"
     },
     "metadata": {},
     "output_type": "display_data"
    }
   ],
   "source": [
    "df[df['Gender'] == 'Female'][['VIQ', 'PIQ', 'FSIQ']].hist()\n",
    "plt.suptitle('Histogramy dla VIQ, PIQ, FSIQ (kobiety)')\n",
    "plt.show()"
   ],
   "metadata": {
    "collapsed": false
   }
  },
  {
   "cell_type": "code",
   "execution_count": null,
   "outputs": [],
   "source": [],
   "metadata": {
    "collapsed": false
   }
  }
 ],
 "metadata": {
  "kernelspec": {
   "display_name": "Python 3",
   "language": "python",
   "name": "python3"
  },
  "language_info": {
   "codemirror_mode": {
    "name": "ipython",
    "version": 2
   },
   "file_extension": ".py",
   "mimetype": "text/x-python",
   "name": "python",
   "nbconvert_exporter": "python",
   "pygments_lexer": "ipython2",
   "version": "2.7.6"
  }
 },
 "nbformat": 4,
 "nbformat_minor": 0
}
